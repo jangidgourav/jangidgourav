{
 "cells": [
  {
   "cell_type": "markdown",
   "id": "d3f8dce3",
   "metadata": {},
   "source": [
    "# Notebook imports"
   ]
  },
  {
   "cell_type": "code",
   "execution_count": 5,
   "id": "80b04d38",
   "metadata": {},
   "outputs": [],
   "source": [
    "from sklearn.datasets import load_boston\n",
    "from sklearn.linear_model import LinearRegression\n",
    "import pandas as pd # for dataframes\n",
    "import matplotlib.pyplot as plt\n",
    "import seaborn as sns\n",
    "import numpy as np\n",
    "from sklearn.model_selection import train_test_split   # for training and testing data\n",
    "import statsmodels.api as sm\n",
    "from statsmodels.stats.outliers_influence import variance_inflation_factor\n",
    "import boston_valuation as val\n",
    "\n",
    "%matplotlib inline"
   ]
  },
  {
   "cell_type": "markdown",
   "id": "7ef577b5",
   "metadata": {},
   "source": [
    "# Gather Data\n",
    "[Original source of data](https://archive.ics.uci.edu/ml/machine-learning-databases/housing/)"
   ]
  },
  {
   "cell_type": "code",
   "execution_count": 6,
   "id": "0ce53968",
   "metadata": {},
   "outputs": [],
   "source": [
    "boston_dataset=load_boston()"
   ]
  },
  {
   "cell_type": "code",
   "execution_count": 7,
   "id": "a4c670c8",
   "metadata": {},
   "outputs": [
    {
     "data": {
      "text/plain": [
       "sklearn.utils.Bunch"
      ]
     },
     "execution_count": 7,
     "metadata": {},
     "output_type": "execute_result"
    }
   ],
   "source": [
    "type(boston_dataset)"
   ]
  },
  {
   "cell_type": "code",
   "execution_count": 8,
   "id": "0ceecaa9",
   "metadata": {},
   "outputs": [
    {
     "data": {
      "text/plain": [
       "{'data': array([[6.3200e-03, 1.8000e+01, 2.3100e+00, ..., 1.5300e+01, 3.9690e+02,\n",
       "         4.9800e+00],\n",
       "        [2.7310e-02, 0.0000e+00, 7.0700e+00, ..., 1.7800e+01, 3.9690e+02,\n",
       "         9.1400e+00],\n",
       "        [2.7290e-02, 0.0000e+00, 7.0700e+00, ..., 1.7800e+01, 3.9283e+02,\n",
       "         4.0300e+00],\n",
       "        ...,\n",
       "        [6.0760e-02, 0.0000e+00, 1.1930e+01, ..., 2.1000e+01, 3.9690e+02,\n",
       "         5.6400e+00],\n",
       "        [1.0959e-01, 0.0000e+00, 1.1930e+01, ..., 2.1000e+01, 3.9345e+02,\n",
       "         6.4800e+00],\n",
       "        [4.7410e-02, 0.0000e+00, 1.1930e+01, ..., 2.1000e+01, 3.9690e+02,\n",
       "         7.8800e+00]]),\n",
       " 'target': array([24. , 21.6, 34.7, 33.4, 36.2, 28.7, 22.9, 27.1, 16.5, 18.9, 15. ,\n",
       "        18.9, 21.7, 20.4, 18.2, 19.9, 23.1, 17.5, 20.2, 18.2, 13.6, 19.6,\n",
       "        15.2, 14.5, 15.6, 13.9, 16.6, 14.8, 18.4, 21. , 12.7, 14.5, 13.2,\n",
       "        13.1, 13.5, 18.9, 20. , 21. , 24.7, 30.8, 34.9, 26.6, 25.3, 24.7,\n",
       "        21.2, 19.3, 20. , 16.6, 14.4, 19.4, 19.7, 20.5, 25. , 23.4, 18.9,\n",
       "        35.4, 24.7, 31.6, 23.3, 19.6, 18.7, 16. , 22.2, 25. , 33. , 23.5,\n",
       "        19.4, 22. , 17.4, 20.9, 24.2, 21.7, 22.8, 23.4, 24.1, 21.4, 20. ,\n",
       "        20.8, 21.2, 20.3, 28. , 23.9, 24.8, 22.9, 23.9, 26.6, 22.5, 22.2,\n",
       "        23.6, 28.7, 22.6, 22. , 22.9, 25. , 20.6, 28.4, 21.4, 38.7, 43.8,\n",
       "        33.2, 27.5, 26.5, 18.6, 19.3, 20.1, 19.5, 19.5, 20.4, 19.8, 19.4,\n",
       "        21.7, 22.8, 18.8, 18.7, 18.5, 18.3, 21.2, 19.2, 20.4, 19.3, 22. ,\n",
       "        20.3, 20.5, 17.3, 18.8, 21.4, 15.7, 16.2, 18. , 14.3, 19.2, 19.6,\n",
       "        23. , 18.4, 15.6, 18.1, 17.4, 17.1, 13.3, 17.8, 14. , 14.4, 13.4,\n",
       "        15.6, 11.8, 13.8, 15.6, 14.6, 17.8, 15.4, 21.5, 19.6, 15.3, 19.4,\n",
       "        17. , 15.6, 13.1, 41.3, 24.3, 23.3, 27. , 50. , 50. , 50. , 22.7,\n",
       "        25. , 50. , 23.8, 23.8, 22.3, 17.4, 19.1, 23.1, 23.6, 22.6, 29.4,\n",
       "        23.2, 24.6, 29.9, 37.2, 39.8, 36.2, 37.9, 32.5, 26.4, 29.6, 50. ,\n",
       "        32. , 29.8, 34.9, 37. , 30.5, 36.4, 31.1, 29.1, 50. , 33.3, 30.3,\n",
       "        34.6, 34.9, 32.9, 24.1, 42.3, 48.5, 50. , 22.6, 24.4, 22.5, 24.4,\n",
       "        20. , 21.7, 19.3, 22.4, 28.1, 23.7, 25. , 23.3, 28.7, 21.5, 23. ,\n",
       "        26.7, 21.7, 27.5, 30.1, 44.8, 50. , 37.6, 31.6, 46.7, 31.5, 24.3,\n",
       "        31.7, 41.7, 48.3, 29. , 24. , 25.1, 31.5, 23.7, 23.3, 22. , 20.1,\n",
       "        22.2, 23.7, 17.6, 18.5, 24.3, 20.5, 24.5, 26.2, 24.4, 24.8, 29.6,\n",
       "        42.8, 21.9, 20.9, 44. , 50. , 36. , 30.1, 33.8, 43.1, 48.8, 31. ,\n",
       "        36.5, 22.8, 30.7, 50. , 43.5, 20.7, 21.1, 25.2, 24.4, 35.2, 32.4,\n",
       "        32. , 33.2, 33.1, 29.1, 35.1, 45.4, 35.4, 46. , 50. , 32.2, 22. ,\n",
       "        20.1, 23.2, 22.3, 24.8, 28.5, 37.3, 27.9, 23.9, 21.7, 28.6, 27.1,\n",
       "        20.3, 22.5, 29. , 24.8, 22. , 26.4, 33.1, 36.1, 28.4, 33.4, 28.2,\n",
       "        22.8, 20.3, 16.1, 22.1, 19.4, 21.6, 23.8, 16.2, 17.8, 19.8, 23.1,\n",
       "        21. , 23.8, 23.1, 20.4, 18.5, 25. , 24.6, 23. , 22.2, 19.3, 22.6,\n",
       "        19.8, 17.1, 19.4, 22.2, 20.7, 21.1, 19.5, 18.5, 20.6, 19. , 18.7,\n",
       "        32.7, 16.5, 23.9, 31.2, 17.5, 17.2, 23.1, 24.5, 26.6, 22.9, 24.1,\n",
       "        18.6, 30.1, 18.2, 20.6, 17.8, 21.7, 22.7, 22.6, 25. , 19.9, 20.8,\n",
       "        16.8, 21.9, 27.5, 21.9, 23.1, 50. , 50. , 50. , 50. , 50. , 13.8,\n",
       "        13.8, 15. , 13.9, 13.3, 13.1, 10.2, 10.4, 10.9, 11.3, 12.3,  8.8,\n",
       "         7.2, 10.5,  7.4, 10.2, 11.5, 15.1, 23.2,  9.7, 13.8, 12.7, 13.1,\n",
       "        12.5,  8.5,  5. ,  6.3,  5.6,  7.2, 12.1,  8.3,  8.5,  5. , 11.9,\n",
       "        27.9, 17.2, 27.5, 15. , 17.2, 17.9, 16.3,  7. ,  7.2,  7.5, 10.4,\n",
       "         8.8,  8.4, 16.7, 14.2, 20.8, 13.4, 11.7,  8.3, 10.2, 10.9, 11. ,\n",
       "         9.5, 14.5, 14.1, 16.1, 14.3, 11.7, 13.4,  9.6,  8.7,  8.4, 12.8,\n",
       "        10.5, 17.1, 18.4, 15.4, 10.8, 11.8, 14.9, 12.6, 14.1, 13. , 13.4,\n",
       "        15.2, 16.1, 17.8, 14.9, 14.1, 12.7, 13.5, 14.9, 20. , 16.4, 17.7,\n",
       "        19.5, 20.2, 21.4, 19.9, 19. , 19.1, 19.1, 20.1, 19.9, 19.6, 23.2,\n",
       "        29.8, 13.8, 13.3, 16.7, 12. , 14.6, 21.4, 23. , 23.7, 25. , 21.8,\n",
       "        20.6, 21.2, 19.1, 20.6, 15.2,  7. ,  8.1, 13.6, 20.1, 21.8, 24.5,\n",
       "        23.1, 19.7, 18.3, 21.2, 17.5, 16.8, 22.4, 20.6, 23.9, 22. , 11.9]),\n",
       " 'feature_names': array(['CRIM', 'ZN', 'INDUS', 'CHAS', 'NOX', 'RM', 'AGE', 'DIS', 'RAD',\n",
       "        'TAX', 'PTRATIO', 'B', 'LSTAT'], dtype='<U7'),\n",
       " 'DESCR': \".. _boston_dataset:\\n\\nBoston house prices dataset\\n---------------------------\\n\\n**Data Set Characteristics:**  \\n\\n    :Number of Instances: 506 \\n\\n    :Number of Attributes: 13 numeric/categorical predictive. Median Value (attribute 14) is usually the target.\\n\\n    :Attribute Information (in order):\\n        - CRIM     per capita crime rate by town\\n        - ZN       proportion of residential land zoned for lots over 25,000 sq.ft.\\n        - INDUS    proportion of non-retail business acres per town\\n        - CHAS     Charles River dummy variable (= 1 if tract bounds river; 0 otherwise)\\n        - NOX      nitric oxides concentration (parts per 10 million)\\n        - RM       average number of rooms per dwelling\\n        - AGE      proportion of owner-occupied units built prior to 1940\\n        - DIS      weighted distances to five Boston employment centres\\n        - RAD      index of accessibility to radial highways\\n        - TAX      full-value property-tax rate per $10,000\\n        - PTRATIO  pupil-teacher ratio by town\\n        - B        1000(Bk - 0.63)^2 where Bk is the proportion of blacks by town\\n        - LSTAT    % lower status of the population\\n        - MEDV     Median value of owner-occupied homes in $1000's\\n\\n    :Missing Attribute Values: None\\n\\n    :Creator: Harrison, D. and Rubinfeld, D.L.\\n\\nThis is a copy of UCI ML housing dataset.\\nhttps://archive.ics.uci.edu/ml/machine-learning-databases/housing/\\n\\n\\nThis dataset was taken from the StatLib library which is maintained at Carnegie Mellon University.\\n\\nThe Boston house-price data of Harrison, D. and Rubinfeld, D.L. 'Hedonic\\nprices and the demand for clean air', J. Environ. Economics & Management,\\nvol.5, 81-102, 1978.   Used in Belsley, Kuh & Welsch, 'Regression diagnostics\\n...', Wiley, 1980.   N.B. Various transformations are used in the table on\\npages 244-261 of the latter.\\n\\nThe Boston house-price data has been used in many machine learning papers that address regression\\nproblems.   \\n     \\n.. topic:: References\\n\\n   - Belsley, Kuh & Welsch, 'Regression diagnostics: Identifying Influential Data and Sources of Collinearity', Wiley, 1980. 244-261.\\n   - Quinlan,R. (1993). Combining Instance-Based and Model-Based Learning. In Proceedings on the Tenth International Conference of Machine Learning, 236-243, University of Massachusetts, Amherst. Morgan Kaufmann.\\n\",\n",
       " 'filename': 'C:\\\\Users\\\\GK\\\\anaconda3\\\\lib\\\\site-packages\\\\sklearn\\\\datasets\\\\data\\\\boston_house_prices.csv'}"
      ]
     },
     "execution_count": 8,
     "metadata": {},
     "output_type": "execute_result"
    }
   ],
   "source": [
    "boston_dataset"
   ]
  },
  {
   "cell_type": "code",
   "execution_count": 9,
   "id": "2d4d62a8",
   "metadata": {},
   "outputs": [
    {
     "data": {
      "text/plain": [
       "['DESCR', 'data', 'feature_names', 'filename', 'target']"
      ]
     },
     "execution_count": 9,
     "metadata": {},
     "output_type": "execute_result"
    }
   ],
   "source": [
    "dir(boston_dataset)"
   ]
  },
  {
   "cell_type": "code",
   "execution_count": 10,
   "id": "50c87dbb",
   "metadata": {},
   "outputs": [
    {
     "name": "stdout",
     "output_type": "stream",
     "text": [
      ".. _boston_dataset:\n",
      "\n",
      "Boston house prices dataset\n",
      "---------------------------\n",
      "\n",
      "**Data Set Characteristics:**  \n",
      "\n",
      "    :Number of Instances: 506 \n",
      "\n",
      "    :Number of Attributes: 13 numeric/categorical predictive. Median Value (attribute 14) is usually the target.\n",
      "\n",
      "    :Attribute Information (in order):\n",
      "        - CRIM     per capita crime rate by town\n",
      "        - ZN       proportion of residential land zoned for lots over 25,000 sq.ft.\n",
      "        - INDUS    proportion of non-retail business acres per town\n",
      "        - CHAS     Charles River dummy variable (= 1 if tract bounds river; 0 otherwise)\n",
      "        - NOX      nitric oxides concentration (parts per 10 million)\n",
      "        - RM       average number of rooms per dwelling\n",
      "        - AGE      proportion of owner-occupied units built prior to 1940\n",
      "        - DIS      weighted distances to five Boston employment centres\n",
      "        - RAD      index of accessibility to radial highways\n",
      "        - TAX      full-value property-tax rate per $10,000\n",
      "        - PTRATIO  pupil-teacher ratio by town\n",
      "        - B        1000(Bk - 0.63)^2 where Bk is the proportion of blacks by town\n",
      "        - LSTAT    % lower status of the population\n",
      "        - MEDV     Median value of owner-occupied homes in $1000's\n",
      "\n",
      "    :Missing Attribute Values: None\n",
      "\n",
      "    :Creator: Harrison, D. and Rubinfeld, D.L.\n",
      "\n",
      "This is a copy of UCI ML housing dataset.\n",
      "https://archive.ics.uci.edu/ml/machine-learning-databases/housing/\n",
      "\n",
      "\n",
      "This dataset was taken from the StatLib library which is maintained at Carnegie Mellon University.\n",
      "\n",
      "The Boston house-price data of Harrison, D. and Rubinfeld, D.L. 'Hedonic\n",
      "prices and the demand for clean air', J. Environ. Economics & Management,\n",
      "vol.5, 81-102, 1978.   Used in Belsley, Kuh & Welsch, 'Regression diagnostics\n",
      "...', Wiley, 1980.   N.B. Various transformations are used in the table on\n",
      "pages 244-261 of the latter.\n",
      "\n",
      "The Boston house-price data has been used in many machine learning papers that address regression\n",
      "problems.   \n",
      "     \n",
      ".. topic:: References\n",
      "\n",
      "   - Belsley, Kuh & Welsch, 'Regression diagnostics: Identifying Influential Data and Sources of Collinearity', Wiley, 1980. 244-261.\n",
      "   - Quinlan,R. (1993). Combining Instance-Based and Model-Based Learning. In Proceedings on the Tenth International Conference of Machine Learning, 236-243, University of Massachusetts, Amherst. Morgan Kaufmann.\n",
      "\n"
     ]
    }
   ],
   "source": [
    "print(boston_dataset.DESCR)"
   ]
  },
  {
   "cell_type": "markdown",
   "id": "4f0b4b3e",
   "metadata": {},
   "source": [
    "## Data points and features"
   ]
  },
  {
   "cell_type": "code",
   "execution_count": 11,
   "id": "4d5f14af",
   "metadata": {},
   "outputs": [
    {
     "data": {
      "text/plain": [
       "numpy.ndarray"
      ]
     },
     "execution_count": 11,
     "metadata": {},
     "output_type": "execute_result"
    }
   ],
   "source": [
    "type(boston_dataset.data)"
   ]
  },
  {
   "cell_type": "code",
   "execution_count": 12,
   "id": "116278d2",
   "metadata": {},
   "outputs": [
    {
     "data": {
      "text/plain": [
       "(506, 13)"
      ]
     },
     "execution_count": 12,
     "metadata": {},
     "output_type": "execute_result"
    }
   ],
   "source": [
    "boston_dataset.data.shape #chaning dot notation"
   ]
  },
  {
   "cell_type": "code",
   "execution_count": 13,
   "id": "d798c6de",
   "metadata": {},
   "outputs": [
    {
     "data": {
      "text/plain": [
       "array(['CRIM', 'ZN', 'INDUS', 'CHAS', 'NOX', 'RM', 'AGE', 'DIS', 'RAD',\n",
       "       'TAX', 'PTRATIO', 'B', 'LSTAT'], dtype='<U7')"
      ]
     },
     "execution_count": 13,
     "metadata": {},
     "output_type": "execute_result"
    }
   ],
   "source": [
    "boston_dataset.feature_names"
   ]
  },
  {
   "cell_type": "code",
   "execution_count": 14,
   "id": "e159b2d7",
   "metadata": {},
   "outputs": [
    {
     "data": {
      "text/plain": [
       "array([24. , 21.6, 34.7, 33.4, 36.2, 28.7, 22.9, 27.1, 16.5, 18.9, 15. ,\n",
       "       18.9, 21.7, 20.4, 18.2, 19.9, 23.1, 17.5, 20.2, 18.2, 13.6, 19.6,\n",
       "       15.2, 14.5, 15.6, 13.9, 16.6, 14.8, 18.4, 21. , 12.7, 14.5, 13.2,\n",
       "       13.1, 13.5, 18.9, 20. , 21. , 24.7, 30.8, 34.9, 26.6, 25.3, 24.7,\n",
       "       21.2, 19.3, 20. , 16.6, 14.4, 19.4, 19.7, 20.5, 25. , 23.4, 18.9,\n",
       "       35.4, 24.7, 31.6, 23.3, 19.6, 18.7, 16. , 22.2, 25. , 33. , 23.5,\n",
       "       19.4, 22. , 17.4, 20.9, 24.2, 21.7, 22.8, 23.4, 24.1, 21.4, 20. ,\n",
       "       20.8, 21.2, 20.3, 28. , 23.9, 24.8, 22.9, 23.9, 26.6, 22.5, 22.2,\n",
       "       23.6, 28.7, 22.6, 22. , 22.9, 25. , 20.6, 28.4, 21.4, 38.7, 43.8,\n",
       "       33.2, 27.5, 26.5, 18.6, 19.3, 20.1, 19.5, 19.5, 20.4, 19.8, 19.4,\n",
       "       21.7, 22.8, 18.8, 18.7, 18.5, 18.3, 21.2, 19.2, 20.4, 19.3, 22. ,\n",
       "       20.3, 20.5, 17.3, 18.8, 21.4, 15.7, 16.2, 18. , 14.3, 19.2, 19.6,\n",
       "       23. , 18.4, 15.6, 18.1, 17.4, 17.1, 13.3, 17.8, 14. , 14.4, 13.4,\n",
       "       15.6, 11.8, 13.8, 15.6, 14.6, 17.8, 15.4, 21.5, 19.6, 15.3, 19.4,\n",
       "       17. , 15.6, 13.1, 41.3, 24.3, 23.3, 27. , 50. , 50. , 50. , 22.7,\n",
       "       25. , 50. , 23.8, 23.8, 22.3, 17.4, 19.1, 23.1, 23.6, 22.6, 29.4,\n",
       "       23.2, 24.6, 29.9, 37.2, 39.8, 36.2, 37.9, 32.5, 26.4, 29.6, 50. ,\n",
       "       32. , 29.8, 34.9, 37. , 30.5, 36.4, 31.1, 29.1, 50. , 33.3, 30.3,\n",
       "       34.6, 34.9, 32.9, 24.1, 42.3, 48.5, 50. , 22.6, 24.4, 22.5, 24.4,\n",
       "       20. , 21.7, 19.3, 22.4, 28.1, 23.7, 25. , 23.3, 28.7, 21.5, 23. ,\n",
       "       26.7, 21.7, 27.5, 30.1, 44.8, 50. , 37.6, 31.6, 46.7, 31.5, 24.3,\n",
       "       31.7, 41.7, 48.3, 29. , 24. , 25.1, 31.5, 23.7, 23.3, 22. , 20.1,\n",
       "       22.2, 23.7, 17.6, 18.5, 24.3, 20.5, 24.5, 26.2, 24.4, 24.8, 29.6,\n",
       "       42.8, 21.9, 20.9, 44. , 50. , 36. , 30.1, 33.8, 43.1, 48.8, 31. ,\n",
       "       36.5, 22.8, 30.7, 50. , 43.5, 20.7, 21.1, 25.2, 24.4, 35.2, 32.4,\n",
       "       32. , 33.2, 33.1, 29.1, 35.1, 45.4, 35.4, 46. , 50. , 32.2, 22. ,\n",
       "       20.1, 23.2, 22.3, 24.8, 28.5, 37.3, 27.9, 23.9, 21.7, 28.6, 27.1,\n",
       "       20.3, 22.5, 29. , 24.8, 22. , 26.4, 33.1, 36.1, 28.4, 33.4, 28.2,\n",
       "       22.8, 20.3, 16.1, 22.1, 19.4, 21.6, 23.8, 16.2, 17.8, 19.8, 23.1,\n",
       "       21. , 23.8, 23.1, 20.4, 18.5, 25. , 24.6, 23. , 22.2, 19.3, 22.6,\n",
       "       19.8, 17.1, 19.4, 22.2, 20.7, 21.1, 19.5, 18.5, 20.6, 19. , 18.7,\n",
       "       32.7, 16.5, 23.9, 31.2, 17.5, 17.2, 23.1, 24.5, 26.6, 22.9, 24.1,\n",
       "       18.6, 30.1, 18.2, 20.6, 17.8, 21.7, 22.7, 22.6, 25. , 19.9, 20.8,\n",
       "       16.8, 21.9, 27.5, 21.9, 23.1, 50. , 50. , 50. , 50. , 50. , 13.8,\n",
       "       13.8, 15. , 13.9, 13.3, 13.1, 10.2, 10.4, 10.9, 11.3, 12.3,  8.8,\n",
       "        7.2, 10.5,  7.4, 10.2, 11.5, 15.1, 23.2,  9.7, 13.8, 12.7, 13.1,\n",
       "       12.5,  8.5,  5. ,  6.3,  5.6,  7.2, 12.1,  8.3,  8.5,  5. , 11.9,\n",
       "       27.9, 17.2, 27.5, 15. , 17.2, 17.9, 16.3,  7. ,  7.2,  7.5, 10.4,\n",
       "        8.8,  8.4, 16.7, 14.2, 20.8, 13.4, 11.7,  8.3, 10.2, 10.9, 11. ,\n",
       "        9.5, 14.5, 14.1, 16.1, 14.3, 11.7, 13.4,  9.6,  8.7,  8.4, 12.8,\n",
       "       10.5, 17.1, 18.4, 15.4, 10.8, 11.8, 14.9, 12.6, 14.1, 13. , 13.4,\n",
       "       15.2, 16.1, 17.8, 14.9, 14.1, 12.7, 13.5, 14.9, 20. , 16.4, 17.7,\n",
       "       19.5, 20.2, 21.4, 19.9, 19. , 19.1, 19.1, 20.1, 19.9, 19.6, 23.2,\n",
       "       29.8, 13.8, 13.3, 16.7, 12. , 14.6, 21.4, 23. , 23.7, 25. , 21.8,\n",
       "       20.6, 21.2, 19.1, 20.6, 15.2,  7. ,  8.1, 13.6, 20.1, 21.8, 24.5,\n",
       "       23.1, 19.7, 18.3, 21.2, 17.5, 16.8, 22.4, 20.6, 23.9, 22. , 11.9])"
      ]
     },
     "execution_count": 14,
     "metadata": {},
     "output_type": "execute_result"
    }
   ],
   "source": [
    "boston_dataset.target # actual vales in 000s "
   ]
  },
  {
   "cell_type": "markdown",
   "id": "1f31d6f1",
   "metadata": {},
   "source": [
    "## Data exploration with Pandas Dataframes"
   ]
  },
  {
   "cell_type": "code",
   "execution_count": 15,
   "id": "8768d5f0",
   "metadata": {},
   "outputs": [],
   "source": [
    "# Creating a pandas dataframes\n",
    "data=pd.DataFrame(data=boston_dataset.data, columns=boston_dataset.feature_names)\n",
    "\n",
    "\n",
    "# Add Columns in data for prices(target)\n",
    "data['PRICE'] = boston_dataset.target"
   ]
  },
  {
   "cell_type": "code",
   "execution_count": 16,
   "id": "e7e085d2",
   "metadata": {},
   "outputs": [
    {
     "data": {
      "text/html": [
       "<div>\n",
       "<style scoped>\n",
       "    .dataframe tbody tr th:only-of-type {\n",
       "        vertical-align: middle;\n",
       "    }\n",
       "\n",
       "    .dataframe tbody tr th {\n",
       "        vertical-align: top;\n",
       "    }\n",
       "\n",
       "    .dataframe thead th {\n",
       "        text-align: right;\n",
       "    }\n",
       "</style>\n",
       "<table border=\"1\" class=\"dataframe\">\n",
       "  <thead>\n",
       "    <tr style=\"text-align: right;\">\n",
       "      <th></th>\n",
       "      <th>CRIM</th>\n",
       "      <th>ZN</th>\n",
       "      <th>INDUS</th>\n",
       "      <th>CHAS</th>\n",
       "      <th>NOX</th>\n",
       "      <th>RM</th>\n",
       "      <th>AGE</th>\n",
       "      <th>DIS</th>\n",
       "      <th>RAD</th>\n",
       "      <th>TAX</th>\n",
       "      <th>PTRATIO</th>\n",
       "      <th>B</th>\n",
       "      <th>LSTAT</th>\n",
       "      <th>PRICE</th>\n",
       "    </tr>\n",
       "  </thead>\n",
       "  <tbody>\n",
       "    <tr>\n",
       "      <th>501</th>\n",
       "      <td>0.06263</td>\n",
       "      <td>0.0</td>\n",
       "      <td>11.93</td>\n",
       "      <td>0.0</td>\n",
       "      <td>0.573</td>\n",
       "      <td>6.593</td>\n",
       "      <td>69.1</td>\n",
       "      <td>2.4786</td>\n",
       "      <td>1.0</td>\n",
       "      <td>273.0</td>\n",
       "      <td>21.0</td>\n",
       "      <td>391.99</td>\n",
       "      <td>9.67</td>\n",
       "      <td>22.4</td>\n",
       "    </tr>\n",
       "    <tr>\n",
       "      <th>502</th>\n",
       "      <td>0.04527</td>\n",
       "      <td>0.0</td>\n",
       "      <td>11.93</td>\n",
       "      <td>0.0</td>\n",
       "      <td>0.573</td>\n",
       "      <td>6.120</td>\n",
       "      <td>76.7</td>\n",
       "      <td>2.2875</td>\n",
       "      <td>1.0</td>\n",
       "      <td>273.0</td>\n",
       "      <td>21.0</td>\n",
       "      <td>396.90</td>\n",
       "      <td>9.08</td>\n",
       "      <td>20.6</td>\n",
       "    </tr>\n",
       "    <tr>\n",
       "      <th>503</th>\n",
       "      <td>0.06076</td>\n",
       "      <td>0.0</td>\n",
       "      <td>11.93</td>\n",
       "      <td>0.0</td>\n",
       "      <td>0.573</td>\n",
       "      <td>6.976</td>\n",
       "      <td>91.0</td>\n",
       "      <td>2.1675</td>\n",
       "      <td>1.0</td>\n",
       "      <td>273.0</td>\n",
       "      <td>21.0</td>\n",
       "      <td>396.90</td>\n",
       "      <td>5.64</td>\n",
       "      <td>23.9</td>\n",
       "    </tr>\n",
       "    <tr>\n",
       "      <th>504</th>\n",
       "      <td>0.10959</td>\n",
       "      <td>0.0</td>\n",
       "      <td>11.93</td>\n",
       "      <td>0.0</td>\n",
       "      <td>0.573</td>\n",
       "      <td>6.794</td>\n",
       "      <td>89.3</td>\n",
       "      <td>2.3889</td>\n",
       "      <td>1.0</td>\n",
       "      <td>273.0</td>\n",
       "      <td>21.0</td>\n",
       "      <td>393.45</td>\n",
       "      <td>6.48</td>\n",
       "      <td>22.0</td>\n",
       "    </tr>\n",
       "    <tr>\n",
       "      <th>505</th>\n",
       "      <td>0.04741</td>\n",
       "      <td>0.0</td>\n",
       "      <td>11.93</td>\n",
       "      <td>0.0</td>\n",
       "      <td>0.573</td>\n",
       "      <td>6.030</td>\n",
       "      <td>80.8</td>\n",
       "      <td>2.5050</td>\n",
       "      <td>1.0</td>\n",
       "      <td>273.0</td>\n",
       "      <td>21.0</td>\n",
       "      <td>396.90</td>\n",
       "      <td>7.88</td>\n",
       "      <td>11.9</td>\n",
       "    </tr>\n",
       "  </tbody>\n",
       "</table>\n",
       "</div>"
      ],
      "text/plain": [
       "        CRIM   ZN  INDUS  CHAS    NOX     RM   AGE     DIS  RAD    TAX  \\\n",
       "501  0.06263  0.0  11.93   0.0  0.573  6.593  69.1  2.4786  1.0  273.0   \n",
       "502  0.04527  0.0  11.93   0.0  0.573  6.120  76.7  2.2875  1.0  273.0   \n",
       "503  0.06076  0.0  11.93   0.0  0.573  6.976  91.0  2.1675  1.0  273.0   \n",
       "504  0.10959  0.0  11.93   0.0  0.573  6.794  89.3  2.3889  1.0  273.0   \n",
       "505  0.04741  0.0  11.93   0.0  0.573  6.030  80.8  2.5050  1.0  273.0   \n",
       "\n",
       "     PTRATIO       B  LSTAT  PRICE  \n",
       "501     21.0  391.99   9.67   22.4  \n",
       "502     21.0  396.90   9.08   20.6  \n",
       "503     21.0  396.90   5.64   23.9  \n",
       "504     21.0  393.45   6.48   22.0  \n",
       "505     21.0  396.90   7.88   11.9  "
      ]
     },
     "execution_count": 16,
     "metadata": {},
     "output_type": "execute_result"
    }
   ],
   "source": [
    "# Getting glimes of our data\n",
    "#data\n",
    "data.head()  # Rows at top of the data\n",
    "data.tail()  # Rows at the bootom of the data"
   ]
  },
  {
   "cell_type": "code",
   "execution_count": 17,
   "id": "f838a345",
   "metadata": {},
   "outputs": [
    {
     "data": {
      "text/plain": [
       "CRIM       506\n",
       "ZN         506\n",
       "INDUS      506\n",
       "CHAS       506\n",
       "NOX        506\n",
       "RM         506\n",
       "AGE        506\n",
       "DIS        506\n",
       "RAD        506\n",
       "TAX        506\n",
       "PTRATIO    506\n",
       "B          506\n",
       "LSTAT      506\n",
       "PRICE      506\n",
       "dtype: int64"
      ]
     },
     "execution_count": 17,
     "metadata": {},
     "output_type": "execute_result"
    }
   ],
   "source": [
    "data.count()   # Show the number of rows in each columns"
   ]
  },
  {
   "cell_type": "markdown",
   "id": "bf5cc3fe",
   "metadata": {},
   "source": [
    "## Cleaning Data- Check for missing Values"
   ]
  },
  {
   "cell_type": "code",
   "execution_count": 18,
   "id": "b3046e0e",
   "metadata": {},
   "outputs": [
    {
     "data": {
      "text/plain": [
       "CRIM       False\n",
       "ZN         False\n",
       "INDUS      False\n",
       "CHAS       False\n",
       "NOX        False\n",
       "RM         False\n",
       "AGE        False\n",
       "DIS        False\n",
       "RAD        False\n",
       "TAX        False\n",
       "PTRATIO    False\n",
       "B          False\n",
       "LSTAT      False\n",
       "PRICE      False\n",
       "dtype: bool"
      ]
     },
     "execution_count": 18,
     "metadata": {},
     "output_type": "execute_result"
    }
   ],
   "source": [
    "# pd.isnull(data) for whole data\n",
    "pd.isnull(data).any() # for checking all column"
   ]
  },
  {
   "cell_type": "code",
   "execution_count": 19,
   "id": "1a699553",
   "metadata": {},
   "outputs": [
    {
     "name": "stdout",
     "output_type": "stream",
     "text": [
      "<class 'pandas.core.frame.DataFrame'>\n",
      "RangeIndex: 506 entries, 0 to 505\n",
      "Data columns (total 14 columns):\n",
      " #   Column   Non-Null Count  Dtype  \n",
      "---  ------   --------------  -----  \n",
      " 0   CRIM     506 non-null    float64\n",
      " 1   ZN       506 non-null    float64\n",
      " 2   INDUS    506 non-null    float64\n",
      " 3   CHAS     506 non-null    float64\n",
      " 4   NOX      506 non-null    float64\n",
      " 5   RM       506 non-null    float64\n",
      " 6   AGE      506 non-null    float64\n",
      " 7   DIS      506 non-null    float64\n",
      " 8   RAD      506 non-null    float64\n",
      " 9   TAX      506 non-null    float64\n",
      " 10  PTRATIO  506 non-null    float64\n",
      " 11  B        506 non-null    float64\n",
      " 12  LSTAT    506 non-null    float64\n",
      " 13  PRICE    506 non-null    float64\n",
      "dtypes: float64(14)\n",
      "memory usage: 55.4 KB\n"
     ]
    }
   ],
   "source": [
    "data.info()"
   ]
  },
  {
   "cell_type": "markdown",
   "id": "15ecd271",
   "metadata": {},
   "source": [
    "## Visualing Data- Histogram,Distribution and Bar Chats"
   ]
  },
  {
   "cell_type": "code",
   "execution_count": null,
   "id": "318675d5",
   "metadata": {},
   "outputs": [],
   "source": [
    "plt.figure(figsize=(10,6))\n",
    "\n",
    "\n",
    "plt.hist(data['PRICE'], bins=50,ec='black')\n",
    "plt.xlabel('Price in 000s')\n",
    "plt.ylabel('No of Houses')\n",
    "\n",
    "plt.show()"
   ]
  },
  {
   "cell_type": "code",
   "execution_count": null,
   "id": "e25ede1e",
   "metadata": {},
   "outputs": [],
   "source": [
    "plt.figure(figsize=(10,6))\n",
    "sns.distplot(data['PRICE'],bins=50,hist=True,kde=True,color='#fbc02d')\n",
    "plt.show()"
   ]
  },
  {
   "cell_type": "code",
   "execution_count": null,
   "id": "dfebeb3e",
   "metadata": {},
   "outputs": [],
   "source": [
    "plt.figure(figsize=(10,6))\n",
    "\n",
    "\n",
    "plt.hist(data['RM'],ec='black')\n",
    "plt.xlabel('Average no.of rooms')\n",
    "plt.ylabel('No of Houses')\n",
    "\n",
    "plt.show()"
   ]
  },
  {
   "cell_type": "code",
   "execution_count": null,
   "id": "9c958df2",
   "metadata": {},
   "outputs": [],
   "source": [
    "data[\"RM\"].mean()"
   ]
  },
  {
   "cell_type": "code",
   "execution_count": null,
   "id": "6ee65c42",
   "metadata": {},
   "outputs": [],
   "source": [
    "plt.figure(figsize=(10,6))\n",
    "\n",
    "\n",
    "plt.hist(data['RAD'],ec='black',bins=24,color='#7b1fa2',rwidth=.9)\n",
    "plt.xlabel('Accesability toradial highways')\n",
    "plt.ylabel('No of Houses')\n",
    "\n",
    "plt.show()"
   ]
  },
  {
   "cell_type": "code",
   "execution_count": null,
   "id": "d244dbdd",
   "metadata": {},
   "outputs": [],
   "source": [
    "data['RAD'].value_counts()"
   ]
  },
  {
   "cell_type": "code",
   "execution_count": null,
   "id": "87afa3cb",
   "metadata": {},
   "outputs": [],
   "source": [
    "# Code used for index data\n",
    "\n",
    "\n",
    "frequency=data['RAD'].value_counts()\n",
    "#type(frequency)\n",
    "#frequency.index\n",
    "#frequency.axes[0]   # axes attribute of series used to retives the rows axes labels\n",
    "plt.figure(figsize=(10,6))\n",
    "plt.xlabel('Accesability toradial highways')\n",
    "plt.ylabel('No of Houses')\n",
    "plt.bar(frequency.index, height=frequency)\n",
    "\n",
    "plt.show()"
   ]
  },
  {
   "cell_type": "code",
   "execution_count": null,
   "id": "7801ee9c",
   "metadata": {},
   "outputs": [],
   "source": [
    "data['CHAS'].value_counts()"
   ]
  },
  {
   "cell_type": "markdown",
   "id": "e94760f3",
   "metadata": {},
   "source": [
    "## Descriptive Statistics"
   ]
  },
  {
   "cell_type": "code",
   "execution_count": null,
   "id": "d84cb6a4",
   "metadata": {},
   "outputs": [],
   "source": [
    "data['PRICE'].mean()"
   ]
  },
  {
   "cell_type": "code",
   "execution_count": null,
   "id": "17d366c2",
   "metadata": {},
   "outputs": [],
   "source": [
    "data.median()"
   ]
  },
  {
   "cell_type": "code",
   "execution_count": null,
   "id": "bad58e1c",
   "metadata": {},
   "outputs": [],
   "source": [
    "data.describe()"
   ]
  },
  {
   "cell_type": "markdown",
   "id": "f7db969d",
   "metadata": {},
   "source": [
    "## Correlation \n",
    "## $$\\rho_{XY}=Corr(X,Y)$$\n",
    "## $$-1.0\\leq\\rho_{XY}\\leq+1.0$$\n"
   ]
  },
  {
   "cell_type": "code",
   "execution_count": null,
   "id": "ede77eae",
   "metadata": {},
   "outputs": [],
   "source": [
    "data['PRICE'].corr(data['RM'])   ## Correlation against Rooms"
   ]
  },
  {
   "cell_type": "code",
   "execution_count": null,
   "id": "c085f487",
   "metadata": {},
   "outputs": [],
   "source": [
    "data['PRICE'].corr(data['PTRATIO'])  ## PTRATIO measures school Qualtiy or Education"
   ]
  },
  {
   "cell_type": "code",
   "execution_count": null,
   "id": "f82d49d2",
   "metadata": {},
   "outputs": [],
   "source": [
    "data.corr()  #Peason Correleation Coffecients"
   ]
  },
  {
   "cell_type": "code",
   "execution_count": null,
   "id": "699de7e4",
   "metadata": {},
   "outputs": [],
   "source": [
    "mask = np.zeros_like(data.corr())\n",
    "triangle_indices = np.triu_indices_from(mask)\n",
    "mask[triangle_indices] = True\n",
    "mask"
   ]
  },
  {
   "cell_type": "code",
   "execution_count": null,
   "id": "4fbe7d77",
   "metadata": {
    "scrolled": false
   },
   "outputs": [],
   "source": [
    "plt.figure(figsize=(16,10))\n",
    "sns.heatmap(data.corr(),mask=mask,annot=True,annot_kws={'size':14})\n",
    "# If passed(mask), data will not be shown in cells where ``mask`` is True.\n",
    "sns.set_style('white')\n",
    "plt.xticks(fontsize=14)\n",
    "plt.yticks(fontsize=14)\n",
    "plt.show()"
   ]
  },
  {
   "cell_type": "code",
   "execution_count": null,
   "id": "f5ea8454",
   "metadata": {},
   "outputs": [],
   "source": [
    "#Challege\n",
    "nox_dis_corr=round(data['NOX'].corr(data['DIS']),3) ## 3 for the precision after 0\n",
    "plt.figure(figsize=(20,15))\n",
    "plt.title(f'DIS vs NOX (Correlation{nox_dis_corr})',fontsize=14)  ## showing correlation in the graph\n",
    "plt.scatter(x=data['DIS'],y=data['NOX'],alpha=.6,s=80,color='indigo')\n",
    "plt.xlabel('DIS distance from emplyemnet',fontsize=14)\n",
    "plt.ylabel('NOX Nitric oxide pollution', fontsize=14)\n",
    "plt.show()"
   ]
  },
  {
   "cell_type": "code",
   "execution_count": null,
   "id": "b331b40e",
   "metadata": {},
   "outputs": [],
   "source": [
    "sns.set()\n",
    "sns.set_context('notebook')\n",
    "\n",
    "\n",
    "sns.set_style('darkgrid')\n",
    "sns.jointplot(x=data['DIS'],y=data['NOX'],height=9,color='indigo', joint_kws={'alpha':.5})  ## Scattering using seaborn\n",
    "plt.show()"
   ]
  },
  {
   "cell_type": "code",
   "execution_count": null,
   "id": "682f6d46",
   "metadata": {},
   "outputs": [],
   "source": [
    "sns.set()\n",
    "sns.set_context('notebook')\n",
    "\n",
    "\n",
    "sns.set_style('darkgrid')\n",
    "sns.jointplot(x=data['DIS'],y=data['NOX'],height=7,color='blue',kind='hex')  ## Scattering using seaborn\n",
    "plt.show()"
   ]
  },
  {
   "cell_type": "code",
   "execution_count": null,
   "id": "e8c7018c",
   "metadata": {},
   "outputs": [],
   "source": [
    "## Now lets see what a prefect correlation looks like\n",
    "\n",
    "\n",
    "sns.set()\n",
    "sns.set_context('notebook')\n",
    "\n",
    "\n",
    "sns.set_style('darkgrid')\n",
    "sns.jointplot(x=data['TAX'],y=data['RAD'],height=7,color='indigo', joint_kws={'alpha':.5})  ## Scattering using seaborn\n",
    "plt.show()"
   ]
  },
  {
   "cell_type": "code",
   "execution_count": null,
   "id": "3c825243",
   "metadata": {},
   "outputs": [],
   "source": [
    "sns.lmplot(x='TAX', y='RAD',data=data, height=7)\n",
    "plt.show()"
   ]
  },
  {
   "cell_type": "code",
   "execution_count": null,
   "id": "43bb6e65",
   "metadata": {},
   "outputs": [],
   "source": [
    "sns.lmplot(x='RM', y='PRICE',data=data, height=7)\n",
    "plt.show()"
   ]
  },
  {
   "cell_type": "code",
   "execution_count": null,
   "id": "108817ba",
   "metadata": {},
   "outputs": [],
   "source": [
    "%%time\n",
    "\n",
    "\n",
    "sns.pairplot(data)\n",
    "plt.show()"
   ]
  },
  {
   "cell_type": "code",
   "execution_count": null,
   "id": "363489e5",
   "metadata": {},
   "outputs": [],
   "source": [
    "%%time\n",
    "sns.pairplot(data,kind='reg',plot_kws={'line_kws':{'color':'cyan'}})\n",
    "plt.show()"
   ]
  },
  {
   "cell_type": "markdown",
   "id": "4b207255",
   "metadata": {},
   "source": [
    "## Training & Test Dataset Split\n"
   ]
  },
  {
   "cell_type": "code",
   "execution_count": null,
   "id": "314b3a0e",
   "metadata": {},
   "outputs": [],
   "source": [
    "prices= data['PRICE']\n",
    "features= data.drop('PRICE',axis=1)\n",
    "X_train,X_test,Y_train,Y_test= train_test_split(features,prices,test_size=0.2,random_state=10)\n",
    "# random_state  = Controls the shuffling applied to the data before applying the split.\n",
    "# the % of the training set will be the number of row in X train divided by the total no of rows in the dataset in wholel\n",
    "# we can calcluate the this function with the help of len function\n",
    "#train_test_split=  Split arrays or matrices into random train and test subsets\n",
    "len(X_train)/len(features)\n",
    "\n",
    "\n"
   ]
  },
  {
   "cell_type": "code",
   "execution_count": null,
   "id": "3b4a9723",
   "metadata": {},
   "outputs": [],
   "source": [
    "# the % of the test set will be the number of row in X test divided by the total no of rows in the dataset in whole\n",
    "X_test.shape[0]/features.shape[0]\n",
    "\n"
   ]
  },
  {
   "cell_type": "markdown",
   "id": "b0969876",
   "metadata": {},
   "source": [
    "## Multivaribale Regression"
   ]
  },
  {
   "cell_type": "code",
   "execution_count": null,
   "id": "be983df5",
   "metadata": {},
   "outputs": [],
   "source": [
    "reg= LinearRegression()\n",
    "reg.fit(X_train,Y_train)\n",
    "\n",
    "# Printing out Rsquared values for training and test database\n",
    "print('Training data r sqaured', reg.score(X_train,Y_train))\n",
    "print('Training data r sqaured', reg.score(X_test,Y_test))\n",
    "\n",
    "print('Intercept',reg.intercept_)\n",
    "pd.DataFrame(data=reg.coef_,index=X_train.columns,columns=['coef'])"
   ]
  },
  {
   "cell_type": "markdown",
   "id": "74b00d18",
   "metadata": {},
   "source": [
    "## Data  Transformation"
   ]
  },
  {
   "cell_type": "code",
   "execution_count": null,
   "id": "284a8b55",
   "metadata": {},
   "outputs": [],
   "source": [
    "data['PRICE'].skew()"
   ]
  },
  {
   "cell_type": "code",
   "execution_count": null,
   "id": "a253d7c0",
   "metadata": {},
   "outputs": [],
   "source": [
    "y_log = np.log(data['PRICE'])\n",
    "y_log.tail()\n",
    "y_log.skew()"
   ]
  },
  {
   "cell_type": "code",
   "execution_count": null,
   "id": "056e48f9",
   "metadata": {},
   "outputs": [],
   "source": [
    "sns.distplot(y_log)\n",
    "plt.title(f'Log price wth skew{y_log.skew()}')\n",
    "plt.show()"
   ]
  },
  {
   "cell_type": "code",
   "execution_count": null,
   "id": "f0247ef5",
   "metadata": {},
   "outputs": [],
   "source": [
    "sns.lmplot(x='LSTAT', y='PRICE', data= data,size=7,scatter_kws={'alpha':0.6})\n",
    "plt.show()"
   ]
  },
  {
   "cell_type": "code",
   "execution_count": null,
   "id": "b76fa4b0",
   "metadata": {},
   "outputs": [],
   "source": [
    "transformed_data= features\n",
    "transformed_data['LOG PRICE']=y_log\n"
   ]
  },
  {
   "cell_type": "code",
   "execution_count": null,
   "id": "f03abdf5",
   "metadata": {},
   "outputs": [],
   "source": [
    "sns.lmplot(x='LSTAT',y='LOG PRICE',data=transformed_data,size=7,scatter_kws={'alpha':0.6},line_kws={'color':'cyan'})\n",
    "plt.show()"
   ]
  },
  {
   "cell_type": "markdown",
   "id": "bdaf8a2c",
   "metadata": {},
   "source": [
    "## Regression using LOGprice"
   ]
  },
  {
   "cell_type": "code",
   "execution_count": null,
   "id": "7c94e708",
   "metadata": {},
   "outputs": [],
   "source": [
    "prices= np.log(data['PRICE'])   # using log price\n",
    "features=data.drop('PRICE',axis=1)\n",
    "x_train,x_test,y_train,y_test=train_test_split(features,prices,test_size=0.2,random_state=10)\n",
    "reg=LinearRegression()\n",
    "reg.fit(x_train,y_train)"
   ]
  },
  {
   "cell_type": "code",
   "execution_count": null,
   "id": "04da0274",
   "metadata": {},
   "outputs": [],
   "source": [
    "# printing out r squared value\n",
    "print('Training data r squared value',reg.score(x_train,y_train))\n",
    "print('Testing data r squared value',reg.score(x_test,y_test))"
   ]
  },
  {
   "cell_type": "code",
   "execution_count": null,
   "id": "0eecb3f9",
   "metadata": {},
   "outputs": [],
   "source": [
    "print('Intercept',reg.intercept_)\n",
    "pd.DataFrame(data=reg.coef_,index=x_train.columns,columns=['coef'])"
   ]
  },
  {
   "cell_type": "code",
   "execution_count": null,
   "id": "1a64fa92",
   "metadata": {},
   "outputs": [],
   "source": [
    "np.e**0.008475"
   ]
  },
  {
   "cell_type": "markdown",
   "id": "47b97719",
   "metadata": {},
   "source": [
    "## p- value & Evaluating Coefficients"
   ]
  },
  {
   "cell_type": "code",
   "execution_count": null,
   "id": "626bf122",
   "metadata": {},
   "outputs": [],
   "source": [
    "# pvalues :- a regression cofficent vital state that tell us about the significance of cofficent\n",
    "\n",
    "\n",
    "x_incl_const= sm.add_constant(x_train)  # Add a column of ones to an array.\n",
    "model= sm.OLS(y_train,x_incl_const)  # Ordinary Least Squares\n",
    "\n",
    "results=model.fit()\n",
    "#results.params\n",
    "#results.pvalues\n",
    "pd.DataFrame({'coef':round(results.params,3),'p_values':round(results.pvalues,3)})\n"
   ]
  },
  {
   "cell_type": "markdown",
   "id": "572c17e1",
   "metadata": {},
   "source": [
    "## Testing for Multicollinerity\n",
    "$$ TAX=\\alpha_0+\\alpha_1 RM +\\alpha_2 NOX+...+\\alpha_{12}LSTAT $$\n",
    "    $$  VIF_{TAX} = \\frac{1}{(1-R_{TAX}^2)} $$"
   ]
  },
  {
   "cell_type": "code",
   "execution_count": null,
   "id": "61805745",
   "metadata": {},
   "outputs": [],
   "source": [
    "# VIF it measure of collinearity amonfg the feature within a multiple regression\n",
    "\n",
    "\n",
    "variance_inflation_factor(exog=x_incl_const.values, exog_idx =1)\n",
    "#type(x_incl_const)"
   ]
  },
  {
   "cell_type": "code",
   "execution_count": null,
   "id": "af2b4418",
   "metadata": {},
   "outputs": [],
   "source": [
    "# Checking coloums in the model\n",
    "#len(x_incl_const.columns)\n",
    "x_incl_const.shape[1]"
   ]
  },
  {
   "cell_type": "code",
   "execution_count": null,
   "id": "edf45d64",
   "metadata": {},
   "outputs": [],
   "source": [
    "# for calcultaing VIFs for all features\n",
    "for i in range(x_incl_const.shape[1]):\n",
    "    print(variance_inflation_factor(exog= x_incl_const.values,exog_idx=i))\n",
    "print('ALL DONE')"
   ]
  },
  {
   "cell_type": "code",
   "execution_count": null,
   "id": "1a6171ee",
   "metadata": {},
   "outputs": [],
   "source": [
    "vif=[] # emply list\n",
    "for i in range(x_incl_const.shape[1]):\n",
    "    vif.append(variance_inflation_factor(exog= x_incl_const.values,exog_idx=i))\n",
    "print(vif)"
   ]
  },
  {
   "cell_type": "code",
   "execution_count": null,
   "id": "fc9d91f9",
   "metadata": {},
   "outputs": [],
   "source": [
    "vif=[variance_inflation_factor(exog= x_incl_const.values,exog_idx=i) \n",
    "     for i in range(x_incl_const.shape[1]) ]\n",
    "\n",
    "\n",
    "pd.DataFrame({'coef_name':x_incl_const.columns,'vif':np.around(vif,2)})"
   ]
  },
  {
   "cell_type": "code",
   "execution_count": null,
   "id": "1f906236",
   "metadata": {},
   "outputs": [],
   "source": [
    "import this\n"
   ]
  },
  {
   "cell_type": "markdown",
   "id": "8242b7b0",
   "metadata": {},
   "source": [
    "## Model Simplification and the Baysion Information Criterion (BIC)"
   ]
  },
  {
   "cell_type": "code",
   "execution_count": null,
   "id": "476d5519",
   "metadata": {},
   "outputs": [],
   "source": [
    "# BIC measure complexity  , it allow to compacre two model\n",
    "\n",
    "\n",
    "# Original model with log prices and all features\n",
    "x_incl_const= sm.add_constant(x_train)  # Add a column of ones to an array.\n",
    "model= sm.OLS(y_train,x_incl_const)\n",
    "results=model.fit()\n",
    "\n",
    "org_coef = pd.DataFrame({'coef':round(results.params,3),'p_values':round(results.pvalues,3)})\n",
    "\n",
    "print('BIC is',results.bic)\n",
    "\n",
    "print(' R squared is ',results.rsquared)"
   ]
  },
  {
   "cell_type": "code",
   "execution_count": null,
   "id": "1ed0aa5b",
   "metadata": {},
   "outputs": [],
   "source": [
    "# Reduced  model  #1 excluding INDUS feature\n",
    "x_incl_const= sm.add_constant(x_train)  # Add a column of ones to an array.\n",
    "x_incl_const= x_incl_const.drop(['INDUS'],axis=1)\n",
    "\n",
    "\n",
    "\n",
    "model= sm.OLS(y_train,x_incl_const)\n",
    "results=model.fit()\n",
    "\n",
    "coef_minus_indus = pd.DataFrame({'coef':round(results.params,3),'p_values':round(results.pvalues,3)})\n",
    "\n",
    "print('BIC is',results.bic)\n",
    "\n",
    "print(' R squared is ',results.rsquared)"
   ]
  },
  {
   "cell_type": "code",
   "execution_count": null,
   "id": "ed07fc1a",
   "metadata": {},
   "outputs": [],
   "source": [
    "# Reduced  model #2  excluding INDUS and AGE feature\n",
    "x_incl_const= sm.add_constant(x_train)  # Add a column of ones to an array.\n",
    "x_incl_const= x_incl_const.drop(['INDUS','AGE'],axis=1)\n",
    "\n",
    "\n",
    "\n",
    "model= sm.OLS(y_train,x_incl_const)\n",
    "results=model.fit()\n",
    "\n",
    "coef_minus_indus_age = pd.DataFrame({'coef':round(results.params,3),'p_values':round(results.pvalues,3)})\n",
    "\n",
    "print('BIC is',results.bic)\n",
    "\n",
    "print(' R squared is ',results.rsquared)"
   ]
  },
  {
   "cell_type": "code",
   "execution_count": null,
   "id": "1e9d79b9",
   "metadata": {},
   "outputs": [],
   "source": [
    "frames=[org_coef, coef_minus_indus, coef_minus_indus_age]\n",
    "pd.concat(frames,axis=1)"
   ]
  },
  {
   "cell_type": "markdown",
   "id": "0476d225",
   "metadata": {},
   "source": [
    "## Residuals and Residuals Plots"
   ]
  },
  {
   "cell_type": "code",
   "execution_count": 45,
   "id": "8daeabcd",
   "metadata": {},
   "outputs": [
    {
     "data": {
      "image/png": "[encoded data removed]",
      "text/plain": [
       "<Figure size 432x288 with 1 Axes>"
      ]
     },
     "metadata": {
      "needs_background": "light"
     },
     "output_type": "display_data"
    },
    {
     "data": {
      "image/png": "[encoded data removed]",
      "text/plain": [
       "<Figure size 432x288 with 1 Axes>"
      ]
     },
     "metadata": {
      "needs_background": "light"
     },
     "output_type": "display_data"
    },
    {
     "data": {
      "image/png": "[encoded data removed]",
      "text/plain": [
       "<Figure size 432x288 with 1 Axes>"
      ]
     },
     "metadata": {
      "needs_background": "light"
     },
     "output_type": "display_data"
    }
   ],
   "source": [
    "# Modified model transformed (using log prices)& simplified (dropping two features)\n",
    "\n",
    "\n",
    "prices= np.log(data['PRICE'])   # using log price\n",
    "features=data.drop(['PRICE','INDUS','AGE'],axis=1)\n",
    "x_train,x_test,y_train,y_test=train_test_split(features,prices,test_size=0.2,random_state=10)\n",
    "\n",
    "# using stats model\n",
    "\n",
    "x_incl_const= sm.add_constant(x_train)  # Add a column of ones to an array.\n",
    "model= sm.OLS(y_train,x_incl_const)  # Ordinary Least Squares\n",
    "\n",
    "results=model.fit()\n",
    "\n",
    "# Residuals \n",
    "#residuals = y_train-results.fittedvalues\n",
    "#residuals.describe\n",
    "#results.resid\n",
    "\n",
    "# graph of Actual vs pridicted prices\n",
    "\n",
    "corr=round(y_train.corr(results.fittedvalues),2)\n",
    "plt.scatter(x=y_train, y = results.fittedvalues,c='navy',alpha=0.6)\n",
    "plt.plot(y_train,y_train,color='cyan')\n",
    "plt.xlabel('Actual log prices $y_i$', fontsize=14)\n",
    "plt.ylabel('Predicted log price $\\hat y_i$',fontsize=14)\n",
    "plt.title(f'Actual vs Predicted log prices: $y_i$ vs $\\haty_i$(Corr = {corr})' ,fontsize=14)\n",
    "plt.show()\n",
    "          \n",
    "\n",
    "          \n",
    "          \n",
    "plt.scatter(x=np.e**y_train, y = np.e**results.fittedvalues,c='blue',alpha=0.6)\n",
    "plt.plot(np.e**y_train,np.e**y_train,color='cyan')\n",
    "plt.xlabel('Actual prices $y_i$', fontsize=14)\n",
    "plt.ylabel('Predicted  price $\\hat y_i$',fontsize=14)\n",
    "plt.title(f'Actual vs Predicted  prices: $y_i$ vs $\\haty_i$(Corr = {corr})' ,fontsize=14)\n",
    "plt.show()\n",
    "\n",
    "\n",
    "\n",
    "# REsidual vs Predicted Values\n",
    "\n",
    "\n",
    "\n",
    "plt.scatter(x=results.fittedvalues, y = results.resid ,c='navy',alpha=0.6)\n",
    "\n",
    "plt.xlabel('Predicted log prices  $\\hat y_i$', fontsize=14)\n",
    "plt.ylabel('Residuals' ,fontsize=14)\n",
    "plt.title('Resdiuals vs Fitted Values',fontsize=14)\n",
    "plt.show()\n",
    "\n",
    "# Mean Square Error  & R squared\n",
    "reduced_log_mse=round(results.mse_resid,3)\n",
    "reduced_log_rsquared=round(results.rsquared,3)\n"
   ]
  },
  {
   "cell_type": "code",
   "execution_count": 46,
   "id": "5fc9bf3f",
   "metadata": {},
   "outputs": [
    {
     "name": "stderr",
     "output_type": "stream",
     "text": [
      "C:\\Users\\GK\\anaconda3\\lib\\site-packages\\seaborn\\distributions.py:2557: FutureWarning: `distplot` is a deprecated function and will be removed in a future version. Please adapt your code to use either `displot` (a figure-level function with similar flexibility) or `histplot` (an axes-level function for histograms).\n",
      "  warnings.warn(msg, FutureWarning)\n"
     ]
    },
    {
     "data": {
      "image/png": "[encoded data removed]",
      "text/plain": [
       "<Figure size 432x288 with 1 Axes>"
      ]
     },
     "metadata": {
      "needs_background": "light"
     },
     "output_type": "display_data"
    }
   ],
   "source": [
    "# Distribution of Residuals (log prices)- Checking for normality \n",
    "# Checking of normality is done by skew and mean of the features\n",
    "resid_mean=round(results.resid.mean(),3)\n",
    "resid_skew=round(results.resid.skew(),3)\n",
    "\n",
    "\n",
    "\n",
    "\n",
    "sns.distplot(results.resid, color='navy')\n",
    "plt.title(f'Log Prices model : residuals Skew({resid_skew}) Mean {resid_mean}')\n",
    "plt.show()"
   ]
  },
  {
   "cell_type": "code",
   "execution_count": 52,
   "id": "b1abf618",
   "metadata": {},
   "outputs": [
    {
     "data": {
      "image/png": "[encoded data removed]",
      "text/plain": [
       "<Figure size 432x288 with 1 Axes>"
      ]
     },
     "metadata": {
      "needs_background": "light"
     },
     "output_type": "display_data"
    },
    {
     "data": {
      "image/png": "[encoded data removed]",
      "text/plain": [
       "<Figure size 432x288 with 1 Axes>"
      ]
     },
     "metadata": {
      "needs_background": "light"
     },
     "output_type": "display_data"
    },
    {
     "name": "stderr",
     "output_type": "stream",
     "text": [
      "C:\\Users\\GK\\anaconda3\\lib\\site-packages\\seaborn\\distributions.py:2557: FutureWarning: `distplot` is a deprecated function and will be removed in a future version. Please adapt your code to use either `displot` (a figure-level function with similar flexibility) or `histplot` (an axes-level function for histograms).\n",
      "  warnings.warn(msg, FutureWarning)\n"
     ]
    },
    {
     "data": {
      "image/png": "[encoded data removed]",
      "text/plain": [
       "<Figure size 432x288 with 1 Axes>"
      ]
     },
     "metadata": {
      "needs_background": "light"
     },
     "output_type": "display_data"
    }
   ],
   "source": [
    "# Challenge Using the original model with all the features and normal price genrate\n",
    "\n",
    "# Original model transformed (using normal prices)\n",
    "price=data['PRICE']\n",
    "features=data.drop(['PRICE'],axis=1)\n",
    "\n",
    "x_train,x_test,y_train,y_test=train_test_split(features,prices,test_size=0.2,random_state=10)\n",
    "\n",
    "# using stats model\n",
    "\n",
    "x_incl_const= sm.add_constant(x_train)  # Add a column of ones to an array.\n",
    "model= sm.OLS(y_train,x_incl_const)  # Ordinary Least Squares\n",
    "\n",
    "results=model.fit()\n",
    "\n",
    "\n",
    "\n",
    "# graph of Actual vs pridicted prices\n",
    "\n",
    "corr=round(y_train.corr(results.fittedvalues),2)\n",
    "plt.scatter(x=y_train, y = results.fittedvalues,c='indigo',alpha=0.6)\n",
    "plt.plot(y_train,y_train,color='cyan')\n",
    "plt.xlabel('Actual  prices 000s $y_i$', fontsize=14)\n",
    "plt.ylabel('Predicted  price 000s $\\hat y_i$',fontsize=14)\n",
    "plt.title(f'Actual vs Predicted  prices: $y_i$ vs $\\haty_i$(Corr = {corr})' ,fontsize=14)\n",
    "plt.show()\n",
    "    \n",
    "# REsidual vs Predicted Values\n",
    "\n",
    "plt.scatter(x=results.fittedvalues, y = results.resid ,c='indigo',alpha=0.6)\n",
    "\n",
    "plt.xlabel('Predicted log prices  $\\hat y_i$', fontsize=14)\n",
    "plt.ylabel('Residuals' ,fontsize=14)\n",
    "plt.title('Resdiuals vs Fitted Values',fontsize=14)\n",
    "plt.show()\n",
    "\n",
    "# Residual Distribution Charts\n",
    "resid_mean=round(results.resid.mean(),3)\n",
    "resid_skew=round(results.resid.skew(),3)\n",
    "\n",
    "\n",
    "\n",
    "\n",
    "sns.distplot(results.resid, color='indigo')\n",
    "plt.title(f' : residuals Skew({resid_skew}) Mean {resid_mean}')\n",
    "plt.show()\n",
    "\n",
    "\n",
    "# Mean Square Error  & R squared\n",
    "full_normal_mse=round(results.mse_resid,3)\n",
    "full_normal_rsquared=round(results.rsquared,3)"
   ]
  },
  {
   "cell_type": "code",
   "execution_count": 53,
   "id": "4e2ed1b4",
   "metadata": {},
   "outputs": [
    {
     "data": {
      "image/png": "[encoded data removed]",
      "text/plain": [
       "<Figure size 432x288 with 1 Axes>"
      ]
     },
     "metadata": {
      "needs_background": "light"
     },
     "output_type": "display_data"
    },
    {
     "data": {
      "image/png": "[encoded data removed]",
      "text/plain": [
       "<Figure size 432x288 with 1 Axes>"
      ]
     },
     "metadata": {
      "needs_background": "light"
     },
     "output_type": "display_data"
    }
   ],
   "source": [
    "# Challenge Using the original model with all the features and normal price genrate\n",
    "\n",
    "#  model ometting key feature (using log prices)\n",
    "price=np.log(data['PRICE'])\n",
    "features=data.drop(['PRICE','INDUS','AGE','LSTAT','RM','NOX','CRIM'],axis=1)\n",
    "\n",
    "x_train,x_test,y_train,y_test=train_test_split(features,prices,test_size=0.2,random_state=10)\n",
    "\n",
    "# using stats model\n",
    "\n",
    "x_incl_const= sm.add_constant(x_train)  # Add a column of ones to an array.\n",
    "model= sm.OLS(y_train,x_incl_const)  # Ordinary Least Squares\n",
    "\n",
    "results=model.fit()\n",
    "\n",
    "\n",
    "\n",
    "# graph of Actual vs pridicted prices\n",
    "\n",
    "corr=round(y_train.corr(results.fittedvalues),2)\n",
    "plt.scatter(x=y_train, y = results.fittedvalues,c='#e74c3c',alpha=0.6)\n",
    "plt.plot(y_train,y_train,color='cyan')\n",
    "plt.xlabel('Actual log prices 000s $y_i$', fontsize=14)\n",
    "plt.ylabel('Predicted log price 000s $\\hat y_i$',fontsize=14)\n",
    "plt.title(f'Actual vs Predicted log prices with omitted variable: $y_i$ vs $\\haty_i$(Corr = {corr})' ,fontsize=14)\n",
    "plt.show()\n",
    "    \n",
    "# REsidual vs Predicted Values\n",
    "\n",
    "plt.scatter(x=results.fittedvalues, y = results.resid ,c='#e74c3c',alpha=0.6)\n",
    "\n",
    "plt.xlabel('Predicted log prices  $\\hat y_i$', fontsize=14)\n",
    "plt.ylabel('Residuals' ,fontsize=14)\n",
    "plt.title('Resdiuals vs Fitted Values',fontsize=14)\n",
    "plt.show()\n",
    "\n",
    "\n",
    "# Mean Square Error  & R squared\n",
    "omitted_var_mse=round(results.mse_resid,3)\n",
    "omitted_var_rsquared=round(results.rsquared,3)\n"
   ]
  },
  {
   "cell_type": "code",
   "execution_count": 55,
   "id": "727aca33",
   "metadata": {},
   "outputs": [
    {
     "data": {
      "text/html": [
       "<div>\n",
       "<style scoped>\n",
       "    .dataframe tbody tr th:only-of-type {\n",
       "        vertical-align: middle;\n",
       "    }\n",
       "\n",
       "    .dataframe tbody tr th {\n",
       "        vertical-align: top;\n",
       "    }\n",
       "\n",
       "    .dataframe thead th {\n",
       "        text-align: right;\n",
       "    }\n",
       "</style>\n",
       "<table border=\"1\" class=\"dataframe\">\n",
       "  <thead>\n",
       "    <tr style=\"text-align: right;\">\n",
       "      <th></th>\n",
       "      <th>Rsquared</th>\n",
       "      <th>MSE</th>\n",
       "      <th>RSME</th>\n",
       "    </tr>\n",
       "  </thead>\n",
       "  <tbody>\n",
       "    <tr>\n",
       "      <th>Reduced log model</th>\n",
       "      <td>0.792</td>\n",
       "      <td>0.035</td>\n",
       "      <td>0.187083</td>\n",
       "    </tr>\n",
       "    <tr>\n",
       "      <th>Full Normal Price Model</th>\n",
       "      <td>0.793</td>\n",
       "      <td>0.035</td>\n",
       "      <td>0.187083</td>\n",
       "    </tr>\n",
       "    <tr>\n",
       "      <th>Omitted variable model</th>\n",
       "      <td>0.460</td>\n",
       "      <td>0.090</td>\n",
       "      <td>0.300000</td>\n",
       "    </tr>\n",
       "  </tbody>\n",
       "</table>\n",
       "</div>"
      ],
      "text/plain": [
       "                         Rsquared    MSE      RSME\n",
       "Reduced log model           0.792  0.035  0.187083\n",
       "Full Normal Price Model     0.793  0.035  0.187083\n",
       "Omitted variable model      0.460  0.090  0.300000"
      ]
     },
     "execution_count": 55,
     "metadata": {},
     "output_type": "execute_result"
    }
   ],
   "source": [
    "pd.DataFrame({'Rsquared':[reduced_log_rsquared,full_normal_rsquared,omitted_var_rsquared],\n",
    "              'MSE':[reduced_log_mse,full_normal_mse,omitted_var_mse],\n",
    "             'RSME':np.sqrt([reduced_log_mse,full_normal_mse,omitted_var_mse])},\n",
    "             index=['Reduced log model','Full Normal Price Model','Omitted variable model'])"
   ]
  },
  {
   "cell_type": "code",
   "execution_count": 64,
   "id": "64d3d510",
   "metadata": {},
   "outputs": [
    {
     "name": "stdout",
     "output_type": "stream",
     "text": [
      "1 s.d. in log price is  0.18708286933869708\n",
      "2 s.d. in log price is  0.37416573867739417\n",
      "the upper bound for 95% prediction is 3.7753631203395495\n",
      "the upper bound for 95% prediction is 43.61334233239937\n",
      "the lower bound for 95% prediction is 3.0270316429847615\n",
      "the lower bound for 95% prediction is 20.635886906824155\n"
     ]
    }
   ],
   "source": [
    "# Challenge Our estimated for a house is $30,000. Calculate the upper and lower bound\n",
    "# for a 95% prediction intervel using the reduced log model\n",
    "\n",
    "print('1 s.d. in log price is ',np.sqrt(reduced_log_mse))\n",
    "print('2 s.d. in log price is ',2*np.sqrt(reduced_log_mse))\n",
    "\n",
    "\n",
    "upper_bound =np.log(30)+ 2*np.sqrt(reduced_log_mse)\n",
    "print('the upper bound for 95% prediction is', upper_bound)\n",
    "print('the upper bound for 95% prediction is', np.e**upper_bound)\n",
    "\n",
    "lower_bound =np.log(30)- 2*np.sqrt(reduced_log_mse)\n",
    "print('the lower bound for 95% prediction is', lower_bound)\n",
    "print('the lower bound for 95% prediction is', np.e**lower_bound)"
   ]
  },
  {
   "cell_type": "code",
   "execution_count": 2,
   "id": "afc6b5db",
   "metadata": {},
   "outputs": [
    {
     "name": "stdout",
     "output_type": "stream",
     "text": [
      "Estimated Value 755000.0\n",
      "Upper range 1099000.0\n",
      "Lower range 519000.0\n"
     ]
    }
   ],
   "source": [
    "val.get_dollor_estimate(8,15,False)"
   ]
  },
  {
   "cell_type": "code",
   "execution_count": null,
   "id": "4a0c3964",
   "metadata": {},
   "outputs": [],
   "source": []
  }
 ],
 "metadata": {
  "kernelspec": {
   "display_name": "Python 3",
   "language": "python",
   "name": "python3"
  },
  "language_info": {
   "codemirror_mode": {
    "name": "ipython",
    "version": 3
   },
   "file_extension": ".py",
   "mimetype": "text/x-python",
   "name": "python",
   "nbconvert_exporter": "python",
   "pygments_lexer": "ipython3",
   "version": "3.8.8"
  }
 },
 "nbformat": 4,
 "nbformat_minor": 5
}
